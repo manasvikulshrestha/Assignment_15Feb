{
 "cells": [
  {
   "cell_type": "markdown",
   "id": "504923c8-a590-414e-976e-d46982802a10",
   "metadata": {},
   "source": [
    "Q1. What is multiprocessing in python? Why is it useful?\n",
    "A1. Multiprocessing refers to the ability of a system to support more than one processor at the same time. Applications in a multiprocessing system are broken to smaller routines that run independently. The operating system allocates these threads to the processors improving performance of the system. In Python, the multiprocessing module includes a very simple and intuitive API for dividing work between multiple processes. The more tasks you must do at once, the more difficult it gets to keep track of them all, and keeping the timing right becomes more of a challenge.\n",
    "This is where the concept of multiprocessing arises!\n",
    "A multiprocessing system can have:\n",
    "- multiprocessor, i.e. a computer with more than one central processor.\n",
    "- multi-core processor, i.e. a single computing component with two or more independent actual processing units (called “cores”)."
   ]
  },
  {
   "cell_type": "markdown",
   "id": "0f0f7fc1-3497-455a-a299-d15bf334ace8",
   "metadata": {},
   "source": [
    "Q2. What are the differences between multiprocessing and multithreading?\n",
    "A2. Multiprocessing: \n",
    "- CPUs are added for increasing computing power. \n",
    "- Many processes are executed simultaneously.\n",
    "- Multiprocessing are classified into Symmetric and Asymmetric.\n",
    "- Process creation is a time-consuming process.\n",
    "- Every process owned a separate address space.\n",
    "\n",
    "Multithreading:\n",
    "- Many threads are created of a single process for increasing computing power.\n",
    "- Many threads of a process are executed simultaneously.\n",
    "- Multithreading is not classified in any categories.\n",
    "- Process creation is according to economical.\n",
    "- A common address space is shared by all the threads."
   ]
  },
  {
   "cell_type": "markdown",
   "id": "629d6340-9cc8-4578-bcff-b3cee4631cbd",
   "metadata": {},
   "source": [
    "Q3. Write a python code to create a process using the multiprocessing module."
   ]
  },
  {
   "cell_type": "code",
   "execution_count": 1,
   "id": "80c50485-6afc-46ff-83db-0525605f2518",
   "metadata": {},
   "outputs": [
    {
     "name": "stdout",
     "output_type": "stream",
     "text": [
      "Square: 100\n",
      "Cube: 1000\n",
      "Done!\n"
     ]
    }
   ],
   "source": [
    "#A3\n",
    "import multiprocessing \n",
    "def print_cube(num): \n",
    "\tprint(\"Cube: {}\".format(num * num * num)) \n",
    "def print_square(num): \n",
    "\tprint(\"Square: {}\".format(num * num)) \n",
    "if __name__ == \"__main__\": \n",
    "\tp1 = multiprocessing.Process(target=print_square, args=(10, )) \n",
    "\tp2 = multiprocessing.Process(target=print_cube, args=(10, )) \n",
    "\tp1.start() \n",
    "\tp2.start() \n",
    "\tp1.join() \n",
    "\tp2.join() \n",
    "\tprint(\"Done!\") "
   ]
  },
  {
   "cell_type": "markdown",
   "id": "90dfee86-2903-464e-997a-06b1ef0a7f8f",
   "metadata": {},
   "source": [
    "Q4. What is a multiprocessing pool in python? Why is it used?\n",
    "A4. Python multiprocessing Pool can be used for parallel execution of a function across multiple input values, distributing the input data across processes (data parallelism). Below is a simple Python multiprocessing Pool example."
   ]
  },
  {
   "cell_type": "code",
   "execution_count": 2,
   "id": "0d66bbc9-5738-4083-b8c5-4461ebaf7a00",
   "metadata": {},
   "outputs": [
    {
     "name": "stdout",
     "output_type": "stream",
     "text": [
      " Process A waiting 5 seconds Process B waiting 2 seconds\n",
      "\n",
      " Process B Finished.\n",
      " Process C waiting 1 seconds\n",
      " Process C Finished.\n",
      " Process D waiting 3 seconds\n",
      " Process A Finished.\n",
      " Process D Finished.\n"
     ]
    }
   ],
   "source": [
    "from multiprocessing import Pool\n",
    "import time\n",
    "work = ([\"A\", 5], [\"B\", 2], [\"C\", 1], [\"D\", 3])\n",
    "def work_log(work_data):\n",
    "    print(\" Process %s waiting %s seconds\" % (work_data[0], work_data[1]))\n",
    "    time.sleep(int(work_data[1]))\n",
    "    print(\" Process %s Finished.\" % work_data[0])\n",
    "def pool_handler():\n",
    "    p = Pool(2)\n",
    "    p.map(work_log, work)\n",
    "if __name__ == '__main__':\n",
    "    pool_handler()"
   ]
  },
  {
   "cell_type": "markdown",
   "id": "aed6bbbd-ee78-44f0-83f1-0bb144b7f538",
   "metadata": {},
   "source": [
    "Q5. How can we create a pool of worker processes in python using the multiprocessing module?\n",
    "A5. In order to utilize all the cores, multiprocessing module provides a Pool class. The Pool class represents a pool of worker processes. It has methods which allows tasks to be offloaded to the worker processes in a few different ways. "
   ]
  },
  {
   "cell_type": "code",
   "execution_count": 4,
   "id": "999f323c-886f-4d40-8475-0f29b09dc75a",
   "metadata": {},
   "outputs": [
    {
     "name": "stdout",
     "output_type": "stream",
     "text": [
      "Worker process id for 1: 4783\n",
      "Worker process id for 3: 4785\n",
      "Worker process id for 4: 4786\n",
      "Worker process id for 2: 4784\n",
      "Worker process id for 5: 4787\n",
      "[1, 4, 9, 16, 25]\n",
      "\n",
      "\n",
      "\n",
      "\n",
      "\n"
     ]
    }
   ],
   "source": [
    "import multiprocessing \n",
    "import os \n",
    "def square(n): \n",
    "\tprint(\"Worker process id for {0}: {1}\\n\".format(n, os.getpid())) \n",
    "\treturn (n*n) \n",
    "if __name__ == \"__main__\": \n",
    "\tmylist = [1,2,3,4,5] \n",
    "\tp = multiprocessing.Pool() \n",
    "\tresult = p.map(square, mylist) \n",
    "\tprint(result) "
   ]
  },
  {
   "cell_type": "markdown",
   "id": "cafa111e-4922-48ad-87b8-a640d6306424",
   "metadata": {},
   "source": [
    "Q6. Write a python program to create 4 processes, each process should print a different number using the\n",
    "multiprocessing module in python."
   ]
  },
  {
   "cell_type": "code",
   "execution_count": 10,
   "id": "1668dd7e-b24c-4c09-9e9c-7b76a175385c",
   "metadata": {},
   "outputs": [
    {
     "name": "stdout",
     "output_type": "stream",
     "text": [
      "3\n",
      "2\n",
      "1\n",
      "7\n",
      "finished main\n"
     ]
    }
   ],
   "source": [
    "from multiprocessing import Process\n",
    "def print_num(n):\n",
    "    print(n)\n",
    "def main():\n",
    "\n",
    "    p1 = Process(target=print_num, args=(3, ))\n",
    "    p1.start()\n",
    "    p2 = Process(target=print_num, args=(2, ))\n",
    "    p2.start()\n",
    "    p3 = Process(target=print_num, args=(1, ))\n",
    "    p3.start()\n",
    "    p4 = Process(target=print_num, args=(7, ))\n",
    "    p4.start()\n",
    "    p1.join()\n",
    "    p2.join()\n",
    "    p3.join()\n",
    "    p4.join()\n",
    "\n",
    "    print('finished main')\n",
    "\n",
    "if __name__ == '__main__':\n",
    "\n",
    "    main()"
   ]
  }
 ],
 "metadata": {
  "kernelspec": {
   "display_name": "Python 3 (ipykernel)",
   "language": "python",
   "name": "python3"
  },
  "language_info": {
   "codemirror_mode": {
    "name": "ipython",
    "version": 3
   },
   "file_extension": ".py",
   "mimetype": "text/x-python",
   "name": "python",
   "nbconvert_exporter": "python",
   "pygments_lexer": "ipython3",
   "version": "3.10.8"
  }
 },
 "nbformat": 4,
 "nbformat_minor": 5
}
